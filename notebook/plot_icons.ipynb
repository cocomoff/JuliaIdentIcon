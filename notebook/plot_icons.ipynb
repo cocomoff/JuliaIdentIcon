{
 "cells": [
  {
   "cell_type": "code",
   "execution_count": 1,
   "metadata": {},
   "outputs": [
    {
     "data": {
      "text/plain": [
       "Plots.GRBackend()"
      ]
     },
     "execution_count": 1,
     "metadata": {},
     "output_type": "execute_result"
    }
   ],
   "source": [
    "using Plots\n",
    "gr()"
   ]
  },
  {
   "cell_type": "code",
   "execution_count": 2,
   "metadata": {},
   "outputs": [
    {
     "data": {
      "text/plain": [
       "8"
      ]
     },
     "execution_count": 2,
     "metadata": {},
     "output_type": "execute_result"
    }
   ],
   "source": [
    "const SIZE=8"
   ]
  },
  {
   "cell_type": "code",
   "execution_count": 3,
   "metadata": {},
   "outputs": [
    {
     "data": {
      "text/plain": [
       "generate_solution (generic function with 1 method)"
      ]
     },
     "execution_count": 3,
     "metadata": {},
     "output_type": "execute_result"
    }
   ],
   "source": [
    "generate_solution(;S=SIZE) = rand(0:1, S * div(S, 2))"
   ]
  },
  {
   "cell_type": "code",
   "execution_count": 4,
   "metadata": {},
   "outputs": [
    {
     "data": {
      "text/plain": [
       "32-element Array{Int64,1}:\n",
       " 0\n",
       " 1\n",
       " 1\n",
       " 1\n",
       " 1\n",
       " 0\n",
       " 1\n",
       " 1\n",
       " 0\n",
       " 1\n",
       " 1\n",
       " 1\n",
       " 0\n",
       " ⋮\n",
       " 1\n",
       " 0\n",
       " 1\n",
       " 0\n",
       " 0\n",
       " 1\n",
       " 0\n",
       " 0\n",
       " 1\n",
       " 0\n",
       " 0\n",
       " 1"
      ]
     },
     "execution_count": 4,
     "metadata": {},
     "output_type": "execute_result"
    }
   ],
   "source": [
    "solution = generate_solution()\n",
    "solution"
   ]
  },
  {
   "cell_type": "code",
   "execution_count": 5,
   "metadata": {},
   "outputs": [
    {
     "data": {
      "text/plain": [
       "8×8 Array{Int64,2}:\n",
       " 0  0  1  0  0  1  0  0\n",
       " 1  1  0  1  1  0  1  1\n",
       " 1  1  0  0  0  0  1  1\n",
       " 1  1  1  0  0  1  1  1\n",
       " 1  0  1  1  1  1  0  1\n",
       " 0  0  0  0  0  0  0  0\n",
       " 1  1  1  0  0  1  1  1\n",
       " 1  1  0  1  1  0  1  1"
      ]
     },
     "execution_count": 5,
     "metadata": {},
     "output_type": "execute_result"
    }
   ],
   "source": [
    "function represent(s; S=SIZE)\n",
    "    smat = reshape(s, (S, div(S, 2)))\n",
    "    [smat reverse(smat, dims=2)]\n",
    "end\n",
    "represent(solution)"
   ]
  },
  {
   "cell_type": "code",
   "execution_count": 6,
   "metadata": {},
   "outputs": [
    {
     "data": {
      "text/plain": [
       "120"
      ]
     },
     "execution_count": 6,
     "metadata": {},
     "output_type": "execute_result"
    }
   ],
   "source": [
    "const PX = 120\n",
    "const PY = 120"
   ]
  },
  {
   "cell_type": "code",
   "execution_count": 7,
   "metadata": {},
   "outputs": [],
   "source": [
    "N = 10\n",
    "solutions = zeros(Int, N, SIZE * div(SIZE, 2))\n",
    "for n in 1:N\n",
    "    solutions[n, 1:end] = generate_solution()\n",
    "end"
   ]
  },
  {
   "cell_type": "code",
   "execution_count": 8,
   "metadata": {},
   "outputs": [
    {
     "data": {
      "image/svg+xml": [
       "<?xml version=\"1.0\" encoding=\"utf-8\"?>\n",
       "<svg xmlns=\"http://www.w3.org/2000/svg\" xmlns:xlink=\"http://www.w3.org/1999/xlink\" width=\"150\" height=\"60\" viewBox=\"0 0 600 240\">\n",
       "<defs>\n",
       "  <clipPath id=\"clip520\">\n",
       "    <rect x=\"0\" y=\"0\" width=\"600\" height=\"240\"/>\n",
       "  </clipPath>\n",
       "</defs>\n",
       "<path clip-path=\"url(#clip520)\" d=\"\n",
       "M0 240 L600 240 L600 0 L0 0  Z\n",
       "  \" fill=\"#ffffff\" fill-rule=\"evenodd\" fill-opacity=\"1\"/>\n",
       "<defs>\n",
       "  <clipPath id=\"clip521\">\n",
       "    <rect x=\"120\" y=\"0\" width=\"421\" height=\"240\"/>\n",
       "  </clipPath>\n",
       "</defs>\n",
       "<path clip-path=\"url(#clip520)\" d=\"\n",
       "M11.811 108.189 L108.189 108.189 L108.189 24.82 L11.811 24.82  Z\n",
       "  \" fill=\"#ffffff\" fill-rule=\"evenodd\" fill-opacity=\"1\"/>\n",
       "<defs>\n",
       "  <clipPath id=\"clip522\">\n",
       "    <rect x=\"11\" y=\"24\" width=\"97\" height=\"84\"/>\n",
       "  </clipPath>\n",
       "</defs>\n",
       "<path clip-path=\"url(#clip520)\" d=\"M 0 0 M55.7921 16.4224 L59.1341 16.4224 L59.1341 4.88742 L55.4984 5.61658 L55.4984 3.75316 L59.1139 3.024 L61.1596 3.024 L61.1596 16.4224 L64.5016 16.4224 L64.5016 18.144 L55.7921 18.144 L55.7921 16.4224 Z\" fill=\"#000000\" fill-rule=\"evenodd\" fill-opacity=\"1\" /><g clip-path=\"url(#clip522)\">\n",
       "<image width=\"83\" height=\"83\" xlink:href=\"data:image/png;base64,\n",
       "iVBORw0KGgoAAAANSUhEUgAAAFMAAABTCAYAAADjsjsAAAABHElEQVR4nO3cva3CMBhAUQdlDLrX\n",
       "QM04DA4DvIIZaGCFIJ3IUnTPAPm5+hrLcZb17/YZE/0/LvR65+uTXu8Xp2l3PqBiQsWEigkVEyom\n",
       "VEyomFAxoWJCy+t937yc3LpU00vEvej3aTKhYkLFhIoJFRMqJlRMqJhQMaF15gbUGH4DbI/V19Zn\n",
       "bDKhYkLFhIoJFRMqJlRMqJhQMaFiQkvfZzpNJlRMqJhQMaFiQsWEigkVEyomVEyomFAxoWJCxYSK\n",
       "CRUTKiZUTKiY0C6Hqo6mQ1UTFBMqJlRMqJhQMaFiQsWEigkVE5r+SeGRNJlQMaFiQsWEigkVEyom\n",
       "VEyomNA6858WY8w9VKXv3WRCxYSKCRUTKiZUTKiYUDGhYkJfMvInRuuXwWkAAAAASUVORK5CYII=\n",
       "\" transform=\"translate(18, 25)\"/>\n",
       "</g>\n",
       "<path clip-path=\"url(#clip520)\" d=\"\n",
       "M131.811 108.189 L228.189 108.189 L228.189 24.82 L131.811 24.82  Z\n",
       "  \" fill=\"#ffffff\" fill-rule=\"evenodd\" fill-opacity=\"1\"/>\n",
       "<defs>\n",
       "  <clipPath id=\"clip523\">\n",
       "    <rect x=\"131\" y=\"24\" width=\"97\" height=\"84\"/>\n",
       "  </clipPath>\n",
       "</defs>\n",
       "<path clip-path=\"url(#clip520)\" d=\"M 0 0 M177.661 16.4224 L184.8 16.4224 L184.8 18.144 L175.2 18.144 L175.2 16.4224 Q176.364 15.2172 178.37 13.1918 Q180.385 11.1562 180.901 10.5688 Q181.884 9.46494 182.269 8.70539 Q182.663 7.93572 182.663 7.19643 Q182.663 5.99129 181.813 5.23174 Q180.972 4.4722 179.615 4.4722 Q178.653 4.4722 177.58 4.8064 Q176.516 5.1406 175.301 5.81912 L175.301 3.75316 Q176.536 3.25693 177.61 3.00375 Q178.683 2.75056 179.575 2.75056 Q181.924 2.75056 183.322 3.92533 Q184.719 5.10009 184.719 7.06478 Q184.719 7.99648 184.365 8.83705 Q184.021 9.66748 183.099 10.8017 Q182.846 11.0954 181.489 12.5031 Q180.132 13.9007 177.661 16.4224 Z\" fill=\"#000000\" fill-rule=\"evenodd\" fill-opacity=\"1\" /><g clip-path=\"url(#clip523)\">\n",
       "<image width=\"83\" height=\"83\" xlink:href=\"data:image/png;base64,\n",
       "iVBORw0KGgoAAAANSUhEUgAAAFMAAABTCAYAAADjsjsAAAABCklEQVR4nO3cwQkCMRRAQVdShjcv\n",
       "erb/OrQA+9AWEhhZWN+cP2x45BKyZBvXx+c06f28zY4eyuX+mpo7/3gdf6WYUDGhYkLFhIoJFRMq\n",
       "JlRMqJhQMaFiQsWEigkVEyomVEyomFAxoWJCY+WSbPZi6WhmG7UzoWJCxYSKCRUTKiZUTKiYUDGh\n",
       "YkJjZXj2WLVy7NT/fO757XYmVEyomFAxoWJCxYSKCRUTKiZUTKiYUDGhYkLFhIoJFRMqJlRMqJhQ\n",
       "MaFiQsWEigkVEyomVEyomFAxoWJCxYSKCRUTKiZUTKiYUDGhYkLFhIoJFRPa9n70Xr/7seca25lQ\n",
       "MaFiQsWEigkVEyomVEyomNAX7kQZIVlDI5oAAAAASUVORK5CYII=\n",
       "\" transform=\"translate(138, 25)\"/>\n",
       "</g>\n",
       "<path clip-path=\"url(#clip520)\" d=\"\n",
       "M251.811 108.189 L348.189 108.189 L348.189 24.82 L251.811 24.82  Z\n",
       "  \" fill=\"#ffffff\" fill-rule=\"evenodd\" fill-opacity=\"1\"/>\n",
       "<defs>\n",
       "  <clipPath id=\"clip524\">\n",
       "    <rect x=\"251\" y=\"24\" width=\"97\" height=\"84\"/>\n",
       "  </clipPath>\n",
       "</defs>\n",
       "<path clip-path=\"url(#clip520)\" d=\"M 0 0 M301.858 9.99156 Q303.327 10.3055 304.147 11.298 Q304.978 12.2904 304.978 13.7488 Q304.978 15.9869 303.438 17.2123 Q301.899 18.4377 299.063 18.4377 Q298.111 18.4377 297.099 18.2453 Q296.096 18.063 295.022 17.6883 L295.022 15.7135 Q295.873 16.2097 296.886 16.4629 Q297.899 16.7161 299.002 16.7161 Q300.927 16.7161 301.929 15.9565 Q302.942 15.197 302.942 13.7488 Q302.942 12.412 302 11.6626 Q301.068 10.903 299.397 10.903 L297.635 10.903 L297.635 9.22188 L299.478 9.22188 Q300.987 9.22188 301.787 8.62438 Q302.588 8.01674 302.588 6.88249 Q302.588 5.71785 301.757 5.10009 Q300.937 4.4722 299.397 4.4722 Q298.557 4.4722 297.595 4.65449 Q296.633 4.83678 295.478 5.22162 L295.478 3.39871 Q296.643 3.07464 297.656 2.9126 Q298.678 2.75056 299.58 2.75056 Q301.909 2.75056 303.266 3.81393 Q304.623 4.86716 304.623 6.66981 Q304.623 7.92559 303.904 8.79654 Q303.185 9.65736 301.858 9.99156 Z\" fill=\"#000000\" fill-rule=\"evenodd\" fill-opacity=\"1\" /><g clip-path=\"url(#clip524)\">\n",
       "<image width=\"83\" height=\"83\" xlink:href=\"data:image/png;base64,\n",
       "iVBORw0KGgoAAAANSUhEUgAAAFMAAABTCAYAAADjsjsAAAABKElEQVR4nO3bwW0CMRRAwRBtGdy4\n",
       "wDn91xEKSB/Qgi2N5ax4c0Zm98mXL3svx+3n9TXo7/c++tNh18eTrrfzGb/5P3+wYkLFhIoJFRMq\n",
       "JlRMqJhQMaFiQsfuB1gx/u3SzoSKCRUTKiZUTKiYUDGhYkLFhC4zB2qjzjLV6MO8diZUTKiYUDGh\n",
       "YkLFhIoJFRMqJlRM6JgZ/fT4tWLNFaPs6JrtTKiYUDGhYkLFhIoJFRMqJlRM6JiZQM5yUDZq9H36\n",
       "Qm2DYkLFhIoJFRMqJlRMqJhQMaElVwo/VTsTKiZUTKiYUDGhYkLFhIoJFRMqJjR1pXCFM1wpHNXO\n",
       "hIoJFRMqJlRMqJhQMaFiQsWEpg7U9BW83bpS+I8VEyomVEyomFAxoWJCxYSKCb0BufUpuLpqaPkA\n",
       "AAAASUVORK5CYII=\n",
       "\" transform=\"translate(258, 25)\"/>\n",
       "</g>\n",
       "<path clip-path=\"url(#clip520)\" d=\"\n",
       "M371.811 108.189 L468.189 108.189 L468.189 24.82 L371.811 24.82  Z\n",
       "  \" fill=\"#ffffff\" fill-rule=\"evenodd\" fill-opacity=\"1\"/>\n",
       "<defs>\n",
       "  <clipPath id=\"clip525\">\n",
       "    <rect x=\"371\" y=\"24\" width=\"97\" height=\"84\"/>\n",
       "  </clipPath>\n",
       "</defs>\n",
       "<path clip-path=\"url(#clip520)\" d=\"M 0 0 M421.317 4.8064 L416.152 12.8778 L421.317 12.8778 L421.317 4.8064 M420.78 3.024 L423.352 3.024 L423.352 12.8778 L425.509 12.8778 L425.509 14.5792 L423.352 14.5792 L423.352 18.144 L421.317 18.144 L421.317 14.5792 L414.491 14.5792 L414.491 12.6044 L420.78 3.024 Z\" fill=\"#000000\" fill-rule=\"evenodd\" fill-opacity=\"1\" /><g clip-path=\"url(#clip525)\">\n",
       "<image width=\"83\" height=\"83\" xlink:href=\"data:image/png;base64,\n",
       "iVBORw0KGgoAAAANSUhEUgAAAFMAAABTCAYAAADjsjsAAAABMklEQVR4nO3cMU7DQBBAUTvyMejS\n",
       "hJrjcHA4QArOkAZugHalZy0o/9VW7HxtMxrL+9fj/Xsb9PL6OXrpsPvHjf7eyme88Ds/sWJCxYSK\n",
       "CRUTKiZUTKiYUDGhYkLHzMWjY9UZI90Z9CjbyYSKCRUTKiZUTKiYUDGhYkLFhPbj+ja8UNMTw7b5\n",
       "aWnlM3YyoWJCxYSKCRUTKiZUTKiYUDGhYkJTC7VRMyPiyvczW6j9YcWEigkVEyomVEyomFAxoWJC\n",
       "p0xAZyy1/sO9O5lQMaFiQsWEigkVEyomVEyomNA+842O/K6TCRUTKiZUTKiYUDGhYkLFhIoJFROa\n",
       "WqiNvq63cqk1Q/+fTiZUTKiYUDGhYkLFhIoJFRMqJtQ3Ogb0jY4FigkVEyomVEyomFAxoWJCxYR+\n",
       "AE3QMH69LZ8zAAAAAElFTkSuQmCC\n",
       "\" transform=\"translate(378, 25)\"/>\n",
       "</g>\n",
       "<path clip-path=\"url(#clip520)\" d=\"\n",
       "M491.811 108.189 L588.189 108.189 L588.189 24.82 L491.811 24.82  Z\n",
       "  \" fill=\"#ffffff\" fill-rule=\"evenodd\" fill-opacity=\"1\"/>\n",
       "<defs>\n",
       "  <clipPath id=\"clip526\">\n",
       "    <rect x=\"491\" y=\"24\" width=\"97\" height=\"84\"/>\n",
       "  </clipPath>\n",
       "</defs>\n",
       "<path clip-path=\"url(#clip520)\" d=\"M 0 0 M535.747 3.024 L543.777 3.024 L543.777 4.74563 L537.62 4.74563 L537.62 8.45221 Q538.066 8.3003 538.511 8.22941 Q538.957 8.14839 539.402 8.14839 Q541.934 8.14839 543.413 9.53583 Q544.891 10.9233 544.891 13.293 Q544.891 15.7337 543.372 17.0908 Q541.853 18.4377 539.089 18.4377 Q538.137 18.4377 537.144 18.2757 Q536.162 18.1136 535.109 17.7895 L535.109 15.7337 Q536.02 16.2299 536.992 16.473 Q537.964 16.7161 539.048 16.7161 Q540.8 16.7161 541.823 15.7945 Q542.846 14.8729 542.846 13.293 Q542.846 11.7132 541.823 10.7916 Q540.8 9.87003 539.048 9.87003 Q538.228 9.87003 537.407 10.0523 Q536.597 10.2346 535.747 10.6194 L535.747 3.024 Z\" fill=\"#000000\" fill-rule=\"evenodd\" fill-opacity=\"1\" /><g clip-path=\"url(#clip526)\">\n",
       "<image width=\"83\" height=\"83\" xlink:href=\"data:image/png;base64,\n",
       "iVBORw0KGgoAAAANSUhEUgAAAFMAAABTCAYAAADjsjsAAAABLElEQVR4nO3csU0EMRBAURZtGWQk\n",
       "EFPOFX4UQEANJNDCWXrWaNF/BdjSlxNrZ32crx+/T4O+7m90vZf3T7reiuexnf+hYkLFhIoJFRMq\n",
       "JlRMqJhQMaFiQueORVeuiPr6N7l3JxMqJlRMqJhQMaFiQsWEigkVEzonbwxX8WijTiZUTKiYUDGh\n",
       "YkLFhIoJFRMqJlRM6FiZz9SzlFfx6DW6kwkVEyomVEyomFAxoWJCxYSKCW0ZKVz58Db5h5reu5MJ\n",
       "FRMqJlRMqJhQMaFiQsWEigktjRTucIUxxUYKBxQTKiZUTKiYUDGhYkLFhIoJFRM6Jz9A7Vhzx/W0\n",
       "kcIBxYSKCRUTKiZUTKiYUDGhYkLH989t9NH7yVcKtU4mVEyomFAxoWJCxYSKCRUTKib0B8hnLH9E\n",
       "PaXBAAAAAElFTkSuQmCC\n",
       "\" transform=\"translate(498, 25)\"/>\n",
       "</g>\n",
       "<path clip-path=\"url(#clip520)\" d=\"\n",
       "M11.811 228.189 L108.189 228.189 L108.189 144.82 L11.811 144.82  Z\n",
       "  \" fill=\"#ffffff\" fill-rule=\"evenodd\" fill-opacity=\"1\"/>\n",
       "<defs>\n",
       "  <clipPath id=\"clip527\">\n",
       "    <rect x=\"11\" y=\"144\" width=\"97\" height=\"84\"/>\n",
       "  </clipPath>\n",
       "</defs>\n",
       "<path clip-path=\"url(#clip520)\" d=\"M 0 0 M60.1772 129.769 Q58.7999 129.769 57.9897 130.711 Q57.1897 131.652 57.1897 133.293 Q57.1897 134.924 57.9897 135.875 Q58.7999 136.817 60.1772 136.817 Q61.5545 136.817 62.3546 135.875 Q63.1648 134.924 63.1648 133.293 Q63.1648 131.652 62.3546 130.711 Q61.5545 129.769 60.1772 129.769 M64.2383 123.358 L64.2383 125.222 Q63.4686 124.857 62.6787 124.665 Q61.8989 124.472 61.1292 124.472 Q59.1037 124.472 58.0302 125.839 Q56.9669 127.207 56.815 129.971 Q57.4125 129.09 58.3138 128.624 Q59.2151 128.148 60.2988 128.148 Q62.5774 128.148 63.8939 129.536 Q65.2206 130.913 65.2206 133.293 Q65.2206 135.622 63.8433 137.03 Q62.466 138.438 60.1772 138.438 Q57.5543 138.438 56.1668 136.432 Q54.7794 134.417 54.7794 130.599 Q54.7794 127.014 56.4808 124.887 Q58.1822 122.751 61.0482 122.751 Q61.8178 122.751 62.5976 122.902 Q63.3876 123.054 64.2383 123.358 Z\" fill=\"#000000\" fill-rule=\"evenodd\" fill-opacity=\"1\" /><g clip-path=\"url(#clip527)\">\n",
       "<image width=\"83\" height=\"83\" xlink:href=\"data:image/png;base64,\n",
       "iVBORw0KGgoAAAANSUhEUgAAAFMAAABTCAYAAADjsjsAAAABHklEQVR4nO3buw3CQBQAQYwog4wE\n",
       "YsqhcCiAgBpIoAN0SGNZlndiy5/VS053ng6n62c36Hk/j1467Hh50Pst+Y57/uQNKyZUTKiYUDGh\n",
       "YkLFhIoJFRMqJjS93rfh5eTosmqOJd0c9Pc0mVAxoWJCxYSKCRUTKiZUTKiY0LT0htoatKG2gGJC\n",
       "xYSKCRUTKiZUTKiYUDGhYkKHpV9gDeczRzWZUDGhYkLFhIoJFRMqJlRMqJjQXyugrR4pHNVkQsWE\n",
       "igkVEyomVEyomFAxoWJCf/1Uld+aTKiYUDGhYkLFhIoJFRMqJlRMqJjQLH+o6Y2quejvaTKhYkLF\n",
       "hIoJFRMqJlRMqJhQMaE21KAmEyomVEyomFAxoWJCxYSKCRUT+gJO2CqBWZNImAAAAABJRU5ErkJg\n",
       "gg==\n",
       "\" transform=\"translate(18, 145)\"/>\n",
       "</g>\n",
       "<path clip-path=\"url(#clip520)\" d=\"\n",
       "M131.811 228.189 L228.189 228.189 L228.189 144.82 L131.811 144.82  Z\n",
       "  \" fill=\"#ffffff\" fill-rule=\"evenodd\" fill-opacity=\"1\"/>\n",
       "<defs>\n",
       "  <clipPath id=\"clip528\">\n",
       "    <rect x=\"131\" y=\"144\" width=\"97\" height=\"84\"/>\n",
       "  </clipPath>\n",
       "</defs>\n",
       "<path clip-path=\"url(#clip520)\" d=\"M 0 0 M175.139 123.024 L184.861 123.024 L184.861 123.895 L179.372 138.144 L177.235 138.144 L182.4 124.746 L175.139 124.746 L175.139 123.024 Z\" fill=\"#000000\" fill-rule=\"evenodd\" fill-opacity=\"1\" /><g clip-path=\"url(#clip528)\">\n",
       "<image width=\"83\" height=\"83\" xlink:href=\"data:image/png;base64,\n",
       "iVBORw0KGgoAAAANSUhEUgAAAFMAAABTCAYAAADjsjsAAAABHElEQVR4nO3csY3CQBBAURu5DDIS\n",
       "Lr5yrnAogIAaSKAFW3rWnvB/MVrD1ySrkZmfr7/3hJ1/7qs/+7hdv+bZJ3rawRUTKiZUTKiYUDGh\n",
       "YkLFhIoJFROal8svv04eVZMJFRMqJlRMqJhQMaFiQsWEigkteqk0TduWWiO1UPvHigkVEyomVEyo\n",
       "mFAxoWJCxYSKCbVQg5pMqJhQMaFiQsWEigkVEyomVExo00Jt7aJsjzPXGvl7mkyomFAxoWJCxYSK\n",
       "CRUTKiZUTGje4z86jqrJhIoJFRMqJlRMqJhQMaFiQsWEigkto7/AyIWa1mRCxYSKCRUTKiZUTKiY\n",
       "UDGhYkK7vFQ18hayhb59NZlQMaFiQsWEigkVEyomVEyomNAHLnUm8QSahZ4AAAAASUVORK5CYII=\n",
       "\" transform=\"translate(138, 145)\"/>\n",
       "</g>\n",
       "<path clip-path=\"url(#clip520)\" d=\"\n",
       "M251.811 228.189 L348.189 228.189 L348.189 144.82 L251.811 144.82  Z\n",
       "  \" fill=\"#ffffff\" fill-rule=\"evenodd\" fill-opacity=\"1\"/>\n",
       "<defs>\n",
       "  <clipPath id=\"clip529\">\n",
       "    <rect x=\"251\" y=\"144\" width=\"97\" height=\"84\"/>\n",
       "  </clipPath>\n",
       "</defs>\n",
       "<path clip-path=\"url(#clip520)\" d=\"M 0 0 M300 130.964 Q298.542 130.964 297.701 131.744 Q296.871 132.523 296.871 133.891 Q296.871 135.258 297.701 136.038 Q298.542 136.817 300 136.817 Q301.458 136.817 302.299 136.038 Q303.139 135.248 303.139 133.891 Q303.139 132.523 302.299 131.744 Q301.468 130.964 300 130.964 M297.954 130.093 Q296.638 129.769 295.898 128.867 Q295.169 127.966 295.169 126.67 Q295.169 124.857 296.455 123.804 Q297.752 122.751 300 122.751 Q302.258 122.751 303.545 123.804 Q304.831 124.857 304.831 126.67 Q304.831 127.966 304.091 128.867 Q303.362 129.769 302.056 130.093 Q303.534 130.437 304.355 131.44 Q305.185 132.442 305.185 133.891 Q305.185 136.088 303.838 137.263 Q302.501 138.438 300 138.438 Q297.499 138.438 296.152 137.263 Q294.815 136.088 294.815 133.891 Q294.815 132.442 295.645 131.44 Q296.476 130.437 297.954 130.093 M297.205 126.862 Q297.205 128.037 297.934 128.695 Q298.673 129.354 300 129.354 Q301.317 129.354 302.056 128.695 Q302.805 128.037 302.805 126.862 Q302.805 125.687 302.056 125.029 Q301.317 124.371 300 124.371 Q298.673 124.371 297.934 125.029 Q297.205 125.687 297.205 126.862 Z\" fill=\"#000000\" fill-rule=\"evenodd\" fill-opacity=\"1\" /><g clip-path=\"url(#clip529)\">\n",
       "<image width=\"83\" height=\"83\" xlink:href=\"data:image/png;base64,\n",
       "iVBORw0KGgoAAAANSUhEUgAAAFMAAABTCAYAAADjsjsAAAABI0lEQVR4nO3bsQ3CQBAAQUAug4wE\n",
       "YsqhcCiAgBpIoAUsjfUy3ingLa8uOfm9f71vnx12vDz0kYt43s/0vAM9beOKCRUTKiZUTKiYUDGh\n",
       "YkLFhIoJTUscOmdN06unXhHnaDKhYkLFhIoJFRMqJlRMqJhQMaFFNqA5W43eWEY+u8mEigkVEyom\n",
       "VEyomFAxoWJCxYSKCe2n05Xfz9yqJhMqJlRMqJhQMaFiQsWEigkVExp+pXAkfZ2xyYSKCRUTKiZU\n",
       "TKiYUDGhYkLFhKaRP0Ctxa+NmkyomFAxoWJCxYSKCRUTKiZUTKiY0Kwrhb+uVWtZO/X7NJlQMaFi\n",
       "QsWEigkVEyomVEyomNAiH9T+7UphH9QGKCZUTKiYUDGhYkLFhIoJFRP6AmFLKkU7wFQ5AAAAAElF\n",
       "TkSuQmCC\n",
       "\" transform=\"translate(258, 145)\"/>\n",
       "</g>\n",
       "<path clip-path=\"url(#clip520)\" d=\"\n",
       "M371.811 228.189 L468.189 228.189 L468.189 144.82 L371.811 144.82  Z\n",
       "  \" fill=\"#ffffff\" fill-rule=\"evenodd\" fill-opacity=\"1\"/>\n",
       "<defs>\n",
       "  <clipPath id=\"clip5210\">\n",
       "    <rect x=\"371\" y=\"144\" width=\"97\" height=\"84\"/>\n",
       "  </clipPath>\n",
       "</defs>\n",
       "<path clip-path=\"url(#clip520)\" d=\"M 0 0 M415.757 137.83 L415.757 135.967 Q416.526 136.331 417.316 136.524 Q418.106 136.716 418.866 136.716 Q420.891 136.716 421.955 135.359 Q423.028 133.992 423.18 131.217 Q422.593 132.088 421.691 132.554 Q420.79 133.02 419.696 133.02 Q417.428 133.02 416.101 131.652 Q414.784 130.275 414.784 127.895 Q414.784 125.566 416.162 124.158 Q417.539 122.751 419.828 122.751 Q422.451 122.751 423.828 124.766 Q425.216 126.771 425.216 130.599 Q425.216 134.174 423.514 136.311 Q421.823 138.438 418.957 138.438 Q418.187 138.438 417.397 138.286 Q416.607 138.134 415.757 137.83 M419.828 131.419 Q421.205 131.419 422.005 130.478 Q422.815 129.536 422.815 127.895 Q422.815 126.265 422.005 125.323 Q421.205 124.371 419.828 124.371 Q418.451 124.371 417.64 125.323 Q416.84 126.265 416.84 127.895 Q416.84 129.536 417.64 130.478 Q418.451 131.419 419.828 131.419 Z\" fill=\"#000000\" fill-rule=\"evenodd\" fill-opacity=\"1\" /><g clip-path=\"url(#clip5210)\">\n",
       "<image width=\"83\" height=\"83\" xlink:href=\"data:image/png;base64,\n",
       "iVBORw0KGgoAAAANSUhEUgAAAFMAAABTCAYAAADjsjsAAAABKUlEQVR4nO3cu20CQRRAUUBbBpkT\n",
       "E1MOhUMBBK7BCTSA0Kx0V4Psc+LVfq4mGb3R7n9+L4/doOPpNnrpsPv1O73fzHc85E/+x8QMiRkS\n",
       "MyRmSMyQmCExQ2KGxAwtW9y03iJu9ex662llhsQMiRkSMyRmSMyQmCExQ2KG9svXeXigNrq72GKo\n",
       "tYX6e6zMkJghMUNihsQMiRkSMyRmSMyQmKFV28lRMwdqaxiofTAxQ2KGxAyJGRIzJGZIzJCYoVVH\n",
       "Cg3U3rMyQ2KGxAyJGRIzJGZIzJCYITFDy+x5jX908JKYITFDYobEDIkZEjMkZkjMkJih6UcK6+2f\n",
       "f3T8EWKGxAyJGRIzJGZIzJCYITFD048UzhyoOVL4wcQMiRkSMyRmSMyQmCExQ2KGnlvLN5smawIx\n",
       "AAAAAElFTkSuQmCC\n",
       "\" transform=\"translate(378, 145)\"/>\n",
       "</g>\n",
       "<path clip-path=\"url(#clip520)\" d=\"\n",
       "M491.811 228.189 L588.189 228.189 L588.189 144.82 L491.811 144.82  Z\n",
       "  \" fill=\"#ffffff\" fill-rule=\"evenodd\" fill-opacity=\"1\"/>\n",
       "<defs>\n",
       "  <clipPath id=\"clip5211\">\n",
       "    <rect x=\"491\" y=\"144\" width=\"97\" height=\"84\"/>\n",
       "  </clipPath>\n",
       "</defs>\n",
       "<path clip-path=\"url(#clip520)\" d=\"M 0 0 M529.883 136.422 L533.225 136.422 L533.225 124.887 L529.589 125.617 L529.589 123.753 L533.205 123.024 L535.25 123.024 L535.25 136.422 L538.592 136.422 L538.592 138.144 L529.883 138.144 L529.883 136.422 Z\" fill=\"#000000\" fill-rule=\"evenodd\" fill-opacity=\"1\" /><path clip-path=\"url(#clip520)\" d=\"M 0 0 M545.185 124.371 Q543.605 124.371 542.805 125.931 Q542.015 127.48 542.015 130.599 Q542.015 133.708 542.805 135.268 Q543.605 136.817 545.185 136.817 Q546.775 136.817 547.565 135.268 Q548.365 133.708 548.365 130.599 Q548.365 127.48 547.565 125.931 Q546.775 124.371 545.185 124.371 M545.185 122.751 Q547.727 122.751 549.064 124.766 Q550.411 126.771 550.411 130.599 Q550.411 134.417 549.064 136.432 Q547.727 138.438 545.185 138.438 Q542.643 138.438 541.296 136.432 Q539.959 134.417 539.959 130.599 Q539.959 126.771 541.296 124.766 Q542.643 122.751 545.185 122.751 Z\" fill=\"#000000\" fill-rule=\"evenodd\" fill-opacity=\"1\" /><g clip-path=\"url(#clip5211)\">\n",
       "<image width=\"83\" height=\"83\" xlink:href=\"data:image/png;base64,\n",
       "iVBORw0KGgoAAAANSUhEUgAAAFMAAABTCAYAAADjsjsAAAABJUlEQVR4nO3cMW7CQBBA0RBxDDqa\n",
       "UHMcDg4HoOAMNMkRGEvPQib/1dau9LXNamzvHs/L79fQ4XQbPXe//kyXHK85tcbe0zW/xzvnpWJC\n",
       "xYSKCRUTKiZUTKiYUDGhYkL7NRbVV8St7N3JhIoJFRMqJlRMqJhQMaFiQsWEdvvjeTxQWzKs+iTT\n",
       "W1UnEyomVEyomFAxoWJCxYSKCRUTKia0ykBtiXe+n6l1MqFiQsWEigkVEyomVEyomFAxoUUDtamt\n",
       "DN707auTCRUTKiZUTKiYUDGhYkLFhIoJFRMqJlRMqJhQMaFiQsWEigkVEyomVExolYHaf9XJhIoJ\n",
       "FRMqJlRMqJhQMaFiQsWEFn1UtZVXBbX+0fEGxYSKCRUTKiZUTKiYUDGhYkJ/CSUfKkNBq0AAAAAA\n",
       "SUVORK5CYII=\n",
       "\" transform=\"translate(498, 145)\"/>\n",
       "</g>\n",
       "</svg>\n"
      ]
     },
     "execution_count": 8,
     "metadata": {},
     "output_type": "execute_result"
    }
   ],
   "source": [
    "h = []\n",
    "ST = (PX, PY)\n",
    "for n in 1:N\n",
    "    rs = represent(solutions[n, 1:end])\n",
    "    hn = heatmap(rs, aspect_ratio=1, colorbar=false, title=\"$n\", size=ST, ticks=false, xaxis=false, yaxis=false, c=:thermal)\n",
    "    push!(h, hn)\n",
    "end\n",
    "\n",
    "# plot all\n",
    "fig = plot(h[1], h[2], h[3], h[4], h[5], h[6], h[7], h[8], h[9], h[10], layout=(2, 5),\n",
    "aspect_ratio=1, colorbar=false, size=(PX * 5, PY * 2), ticks=false, c=:thermal)\n",
    "savefig(fig, \"icons.png\")\n",
    "fig"
   ]
  },
  {
   "cell_type": "code",
   "execution_count": null,
   "metadata": {},
   "outputs": [],
   "source": []
  }
 ],
 "metadata": {
  "kernelspec": {
   "display_name": "Julia 1.5.3",
   "language": "julia",
   "name": "julia-1.5"
  },
  "language_info": {
   "file_extension": ".jl",
   "mimetype": "application/julia",
   "name": "julia",
   "version": "1.5.3"
  }
 },
 "nbformat": 4,
 "nbformat_minor": 4
}
